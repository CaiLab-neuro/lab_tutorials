{
  "nbformat": 4,
  "nbformat_minor": 0,
  "metadata": {
    "colab": {
      "provenance": [],
      "authorship_tag": "ABX9TyMDUd6ATzQECVGhbZlYJtZ8",
      "include_colab_link": true
    },
    "kernelspec": {
      "name": "python3",
      "display_name": "Python 3"
    },
    "language_info": {
      "name": "python"
    }
  },
  "cells": [
    {
      "cell_type": "markdown",
      "metadata": {
        "id": "view-in-github",
        "colab_type": "text"
      },
      "source": [
        "<a href=\"https://colab.research.google.com/github/lcnature/lab_tutorials/blob/main/Solution_of_RL_fit_demo.ipynb\" target=\"_parent\"><img src=\"https://colab.research.google.com/assets/colab-badge.svg\" alt=\"Open In Colab\"/></a>"
      ]
    },
    {
      "cell_type": "code",
      "execution_count": 2,
      "metadata": {
        "id": "Vl7FIzE_MU_u"
      },
      "outputs": [],
      "source": [
        "import pandas as pd\n",
        "import numpy as np\n",
        "import matplotlib.pyplot as plt\n",
        "from scipy.optimize import minimize"
      ]
    },
    {
      "cell_type": "markdown",
      "source": [
        "## We will learn how to fit a simple model to a simple decision-making task.\n",
        "\n",
        "## Try the task at this [link](https://run.pavlovia.org/demos/fishing_bandit/)\n",
        "If you can remember your subject ID (or you can make a new name), then you can find your data [here](https://gitlab.pavlovia.org/demos/fishing_bandit/-/tree/master/data). It may be a good idea to not use your real name."
      ],
      "metadata": {
        "id": "3j4KCOydSFh0"
      }
    },
    {
      "cell_type": "code",
      "source": [
        "# Feel free to replace the file name with the data of yourself\n",
        "\n",
        "file = 'https://gitlab.pavlovia.org/demos/fishing_bandit/-/raw/master/data/454499_fishing_bandit_2025-02-13_11h31.23.877.csv'\n",
        "data = pd.read_csv(file)"
      ],
      "metadata": {
        "id": "IMtc59IkMa6Z"
      },
      "execution_count": 3,
      "outputs": []
    },
    {
      "cell_type": "code",
      "source": [
        "display(data.columns)"
      ],
      "metadata": {
        "colab": {
          "base_uri": "https://localhost:8080/",
          "height": 228
        },
        "id": "g9yfYDU9Mfb6",
        "outputId": "39c24a56-c4db-4749-d48e-156b2b151b49"
      },
      "execution_count": 4,
      "outputs": [
        {
          "output_type": "display_data",
          "data": {
            "text/plain": [
              "Index(['instructions.started', 'instructions.stopped',\n",
              "       'start_button.numClicks', 'start_button.timesOn',\n",
              "       'start_button.timesOff', 'participant', 'session', 'date', 'expName',\n",
              "       'psychopyVersion', 'OS', 'frameRate', 'trial.started', 'trial.stopped',\n",
              "       'mouse.x', 'mouse.y', 'mouse.leftButton', 'mouse.midButton',\n",
              "       'mouse.rightButton', 'mouse.time', 'mouse.clicked_name', 'outcome',\n",
              "       'nfish', 'fish_im', 'feedback.started', 'feedback.stopped',\n",
              "       'trials.thisRepN', 'trials.thisTrialN', 'trials.thisN',\n",
              "       'trials.thisIndex', 'trials.ran', 'end.started', 'end.stopped',\n",
              "       'exit_button.numClicks', 'exit_button.timesOn', 'exit_button.timesOff'],\n",
              "      dtype='object')"
            ]
          },
          "metadata": {}
        }
      ]
    },
    {
      "cell_type": "code",
      "source": [
        "display(data[['mouse.clicked_name','mouse.time','outcome','nfish']])"
      ],
      "metadata": {
        "id": "csjkfyXhMnIR",
        "colab": {
          "base_uri": "https://localhost:8080/",
          "height": 759
        },
        "outputId": "61001130-63ad-4dca-9e68-05c8bc13e19c"
      },
      "execution_count": 5,
      "outputs": [
        {
          "output_type": "display_data",
          "data": {
            "text/plain": [
              "   mouse.clicked_name             mouse.time  outcome  nfish\n",
              "0                 NaN                    NaN      NaN    NaN\n",
              "1   [\"lake2\",\"lake2\"]   [1.4050000000000011]      1.0    1.0\n",
              "2   [\"lake3\",\"lake3\"]   [0.9800000000000004]      0.0    1.0\n",
              "3   [\"lake1\",\"lake1\"]   [0.8469999999999995]      0.0    1.0\n",
              "4   [\"lake2\",\"lake2\"]   [0.5820000000000007]      0.0    1.0\n",
              "5   [\"lake1\",\"lake1\"]   [1.0989999999999966]      1.0    2.0\n",
              "6   [\"lake3\",\"lake3\"]    [1.382000000000005]      1.0    3.0\n",
              "7   [\"lake2\",\"lake2\"]   [1.5990000000000038]      1.0    4.0\n",
              "8   [\"lake1\",\"lake1\"]   [0.8980000000000032]      0.0    4.0\n",
              "9   [\"lake2\",\"lake2\"]   [0.8470000000000013]      1.0    5.0\n",
              "10  [\"lake3\",\"lake3\"]   [0.6480000000000032]      1.0    6.0\n",
              "11  [\"lake1\",\"lake1\"]   [1.2150000000000034]      1.0    7.0\n",
              "12  [\"lake2\",\"lake2\"]   [0.6310000000000002]      0.0    7.0\n",
              "13  [\"lake3\",\"lake3\"]  [0.38399999999999324]      1.0    8.0\n",
              "14  [\"lake3\",\"lake3\"]   [0.4650000000000034]      0.0    8.0\n",
              "15  [\"lake2\",\"lake2\"]  [0.46400000000000574]      0.0    8.0\n",
              "16  [\"lake1\",\"lake1\"]   [0.3990000000000009]      0.0    8.0\n",
              "17  [\"lake2\",\"lake2\"]   [0.5309999999999988]      0.0    8.0\n",
              "18  [\"lake3\",\"lake3\"]  [0.33099999999999596]      1.0    9.0\n",
              "19  [\"lake3\",\"lake3\"]   [0.4130000000000038]      1.0   10.0\n",
              "20  [\"lake3\",\"lake3\"]    [0.347999999999999]      1.0   11.0\n",
              "21                NaN                    NaN      NaN    NaN"
            ],
            "text/html": [
              "\n",
              "  <div id=\"df-5008fba9-f2ce-4aed-ae2e-b33f02902fce\" class=\"colab-df-container\">\n",
              "    <div>\n",
              "<style scoped>\n",
              "    .dataframe tbody tr th:only-of-type {\n",
              "        vertical-align: middle;\n",
              "    }\n",
              "\n",
              "    .dataframe tbody tr th {\n",
              "        vertical-align: top;\n",
              "    }\n",
              "\n",
              "    .dataframe thead th {\n",
              "        text-align: right;\n",
              "    }\n",
              "</style>\n",
              "<table border=\"1\" class=\"dataframe\">\n",
              "  <thead>\n",
              "    <tr style=\"text-align: right;\">\n",
              "      <th></th>\n",
              "      <th>mouse.clicked_name</th>\n",
              "      <th>mouse.time</th>\n",
              "      <th>outcome</th>\n",
              "      <th>nfish</th>\n",
              "    </tr>\n",
              "  </thead>\n",
              "  <tbody>\n",
              "    <tr>\n",
              "      <th>0</th>\n",
              "      <td>NaN</td>\n",
              "      <td>NaN</td>\n",
              "      <td>NaN</td>\n",
              "      <td>NaN</td>\n",
              "    </tr>\n",
              "    <tr>\n",
              "      <th>1</th>\n",
              "      <td>[\"lake2\",\"lake2\"]</td>\n",
              "      <td>[1.4050000000000011]</td>\n",
              "      <td>1.0</td>\n",
              "      <td>1.0</td>\n",
              "    </tr>\n",
              "    <tr>\n",
              "      <th>2</th>\n",
              "      <td>[\"lake3\",\"lake3\"]</td>\n",
              "      <td>[0.9800000000000004]</td>\n",
              "      <td>0.0</td>\n",
              "      <td>1.0</td>\n",
              "    </tr>\n",
              "    <tr>\n",
              "      <th>3</th>\n",
              "      <td>[\"lake1\",\"lake1\"]</td>\n",
              "      <td>[0.8469999999999995]</td>\n",
              "      <td>0.0</td>\n",
              "      <td>1.0</td>\n",
              "    </tr>\n",
              "    <tr>\n",
              "      <th>4</th>\n",
              "      <td>[\"lake2\",\"lake2\"]</td>\n",
              "      <td>[0.5820000000000007]</td>\n",
              "      <td>0.0</td>\n",
              "      <td>1.0</td>\n",
              "    </tr>\n",
              "    <tr>\n",
              "      <th>5</th>\n",
              "      <td>[\"lake1\",\"lake1\"]</td>\n",
              "      <td>[1.0989999999999966]</td>\n",
              "      <td>1.0</td>\n",
              "      <td>2.0</td>\n",
              "    </tr>\n",
              "    <tr>\n",
              "      <th>6</th>\n",
              "      <td>[\"lake3\",\"lake3\"]</td>\n",
              "      <td>[1.382000000000005]</td>\n",
              "      <td>1.0</td>\n",
              "      <td>3.0</td>\n",
              "    </tr>\n",
              "    <tr>\n",
              "      <th>7</th>\n",
              "      <td>[\"lake2\",\"lake2\"]</td>\n",
              "      <td>[1.5990000000000038]</td>\n",
              "      <td>1.0</td>\n",
              "      <td>4.0</td>\n",
              "    </tr>\n",
              "    <tr>\n",
              "      <th>8</th>\n",
              "      <td>[\"lake1\",\"lake1\"]</td>\n",
              "      <td>[0.8980000000000032]</td>\n",
              "      <td>0.0</td>\n",
              "      <td>4.0</td>\n",
              "    </tr>\n",
              "    <tr>\n",
              "      <th>9</th>\n",
              "      <td>[\"lake2\",\"lake2\"]</td>\n",
              "      <td>[0.8470000000000013]</td>\n",
              "      <td>1.0</td>\n",
              "      <td>5.0</td>\n",
              "    </tr>\n",
              "    <tr>\n",
              "      <th>10</th>\n",
              "      <td>[\"lake3\",\"lake3\"]</td>\n",
              "      <td>[0.6480000000000032]</td>\n",
              "      <td>1.0</td>\n",
              "      <td>6.0</td>\n",
              "    </tr>\n",
              "    <tr>\n",
              "      <th>11</th>\n",
              "      <td>[\"lake1\",\"lake1\"]</td>\n",
              "      <td>[1.2150000000000034]</td>\n",
              "      <td>1.0</td>\n",
              "      <td>7.0</td>\n",
              "    </tr>\n",
              "    <tr>\n",
              "      <th>12</th>\n",
              "      <td>[\"lake2\",\"lake2\"]</td>\n",
              "      <td>[0.6310000000000002]</td>\n",
              "      <td>0.0</td>\n",
              "      <td>7.0</td>\n",
              "    </tr>\n",
              "    <tr>\n",
              "      <th>13</th>\n",
              "      <td>[\"lake3\",\"lake3\"]</td>\n",
              "      <td>[0.38399999999999324]</td>\n",
              "      <td>1.0</td>\n",
              "      <td>8.0</td>\n",
              "    </tr>\n",
              "    <tr>\n",
              "      <th>14</th>\n",
              "      <td>[\"lake3\",\"lake3\"]</td>\n",
              "      <td>[0.4650000000000034]</td>\n",
              "      <td>0.0</td>\n",
              "      <td>8.0</td>\n",
              "    </tr>\n",
              "    <tr>\n",
              "      <th>15</th>\n",
              "      <td>[\"lake2\",\"lake2\"]</td>\n",
              "      <td>[0.46400000000000574]</td>\n",
              "      <td>0.0</td>\n",
              "      <td>8.0</td>\n",
              "    </tr>\n",
              "    <tr>\n",
              "      <th>16</th>\n",
              "      <td>[\"lake1\",\"lake1\"]</td>\n",
              "      <td>[0.3990000000000009]</td>\n",
              "      <td>0.0</td>\n",
              "      <td>8.0</td>\n",
              "    </tr>\n",
              "    <tr>\n",
              "      <th>17</th>\n",
              "      <td>[\"lake2\",\"lake2\"]</td>\n",
              "      <td>[0.5309999999999988]</td>\n",
              "      <td>0.0</td>\n",
              "      <td>8.0</td>\n",
              "    </tr>\n",
              "    <tr>\n",
              "      <th>18</th>\n",
              "      <td>[\"lake3\",\"lake3\"]</td>\n",
              "      <td>[0.33099999999999596]</td>\n",
              "      <td>1.0</td>\n",
              "      <td>9.0</td>\n",
              "    </tr>\n",
              "    <tr>\n",
              "      <th>19</th>\n",
              "      <td>[\"lake3\",\"lake3\"]</td>\n",
              "      <td>[0.4130000000000038]</td>\n",
              "      <td>1.0</td>\n",
              "      <td>10.0</td>\n",
              "    </tr>\n",
              "    <tr>\n",
              "      <th>20</th>\n",
              "      <td>[\"lake3\",\"lake3\"]</td>\n",
              "      <td>[0.347999999999999]</td>\n",
              "      <td>1.0</td>\n",
              "      <td>11.0</td>\n",
              "    </tr>\n",
              "    <tr>\n",
              "      <th>21</th>\n",
              "      <td>NaN</td>\n",
              "      <td>NaN</td>\n",
              "      <td>NaN</td>\n",
              "      <td>NaN</td>\n",
              "    </tr>\n",
              "  </tbody>\n",
              "</table>\n",
              "</div>\n",
              "    <div class=\"colab-df-buttons\">\n",
              "\n",
              "  <div class=\"colab-df-container\">\n",
              "    <button class=\"colab-df-convert\" onclick=\"convertToInteractive('df-5008fba9-f2ce-4aed-ae2e-b33f02902fce')\"\n",
              "            title=\"Convert this dataframe to an interactive table.\"\n",
              "            style=\"display:none;\">\n",
              "\n",
              "  <svg xmlns=\"http://www.w3.org/2000/svg\" height=\"24px\" viewBox=\"0 -960 960 960\">\n",
              "    <path d=\"M120-120v-720h720v720H120Zm60-500h600v-160H180v160Zm220 220h160v-160H400v160Zm0 220h160v-160H400v160ZM180-400h160v-160H180v160Zm440 0h160v-160H620v160ZM180-180h160v-160H180v160Zm440 0h160v-160H620v160Z\"/>\n",
              "  </svg>\n",
              "    </button>\n",
              "\n",
              "  <style>\n",
              "    .colab-df-container {\n",
              "      display:flex;\n",
              "      gap: 12px;\n",
              "    }\n",
              "\n",
              "    .colab-df-convert {\n",
              "      background-color: #E8F0FE;\n",
              "      border: none;\n",
              "      border-radius: 50%;\n",
              "      cursor: pointer;\n",
              "      display: none;\n",
              "      fill: #1967D2;\n",
              "      height: 32px;\n",
              "      padding: 0 0 0 0;\n",
              "      width: 32px;\n",
              "    }\n",
              "\n",
              "    .colab-df-convert:hover {\n",
              "      background-color: #E2EBFA;\n",
              "      box-shadow: 0px 1px 2px rgba(60, 64, 67, 0.3), 0px 1px 3px 1px rgba(60, 64, 67, 0.15);\n",
              "      fill: #174EA6;\n",
              "    }\n",
              "\n",
              "    .colab-df-buttons div {\n",
              "      margin-bottom: 4px;\n",
              "    }\n",
              "\n",
              "    [theme=dark] .colab-df-convert {\n",
              "      background-color: #3B4455;\n",
              "      fill: #D2E3FC;\n",
              "    }\n",
              "\n",
              "    [theme=dark] .colab-df-convert:hover {\n",
              "      background-color: #434B5C;\n",
              "      box-shadow: 0px 1px 3px 1px rgba(0, 0, 0, 0.15);\n",
              "      filter: drop-shadow(0px 1px 2px rgba(0, 0, 0, 0.3));\n",
              "      fill: #FFFFFF;\n",
              "    }\n",
              "  </style>\n",
              "\n",
              "    <script>\n",
              "      const buttonEl =\n",
              "        document.querySelector('#df-5008fba9-f2ce-4aed-ae2e-b33f02902fce button.colab-df-convert');\n",
              "      buttonEl.style.display =\n",
              "        google.colab.kernel.accessAllowed ? 'block' : 'none';\n",
              "\n",
              "      async function convertToInteractive(key) {\n",
              "        const element = document.querySelector('#df-5008fba9-f2ce-4aed-ae2e-b33f02902fce');\n",
              "        const dataTable =\n",
              "          await google.colab.kernel.invokeFunction('convertToInteractive',\n",
              "                                                    [key], {});\n",
              "        if (!dataTable) return;\n",
              "\n",
              "        const docLinkHtml = 'Like what you see? Visit the ' +\n",
              "          '<a target=\"_blank\" href=https://colab.research.google.com/notebooks/data_table.ipynb>data table notebook</a>'\n",
              "          + ' to learn more about interactive tables.';\n",
              "        element.innerHTML = '';\n",
              "        dataTable['output_type'] = 'display_data';\n",
              "        await google.colab.output.renderOutput(dataTable, element);\n",
              "        const docLink = document.createElement('div');\n",
              "        docLink.innerHTML = docLinkHtml;\n",
              "        element.appendChild(docLink);\n",
              "      }\n",
              "    </script>\n",
              "  </div>\n",
              "\n",
              "\n",
              "<div id=\"df-d3ae7e60-7def-4b18-acae-93c29ae1412b\">\n",
              "  <button class=\"colab-df-quickchart\" onclick=\"quickchart('df-d3ae7e60-7def-4b18-acae-93c29ae1412b')\"\n",
              "            title=\"Suggest charts\"\n",
              "            style=\"display:none;\">\n",
              "\n",
              "<svg xmlns=\"http://www.w3.org/2000/svg\" height=\"24px\"viewBox=\"0 0 24 24\"\n",
              "     width=\"24px\">\n",
              "    <g>\n",
              "        <path d=\"M19 3H5c-1.1 0-2 .9-2 2v14c0 1.1.9 2 2 2h14c1.1 0 2-.9 2-2V5c0-1.1-.9-2-2-2zM9 17H7v-7h2v7zm4 0h-2V7h2v10zm4 0h-2v-4h2v4z\"/>\n",
              "    </g>\n",
              "</svg>\n",
              "  </button>\n",
              "\n",
              "<style>\n",
              "  .colab-df-quickchart {\n",
              "      --bg-color: #E8F0FE;\n",
              "      --fill-color: #1967D2;\n",
              "      --hover-bg-color: #E2EBFA;\n",
              "      --hover-fill-color: #174EA6;\n",
              "      --disabled-fill-color: #AAA;\n",
              "      --disabled-bg-color: #DDD;\n",
              "  }\n",
              "\n",
              "  [theme=dark] .colab-df-quickchart {\n",
              "      --bg-color: #3B4455;\n",
              "      --fill-color: #D2E3FC;\n",
              "      --hover-bg-color: #434B5C;\n",
              "      --hover-fill-color: #FFFFFF;\n",
              "      --disabled-bg-color: #3B4455;\n",
              "      --disabled-fill-color: #666;\n",
              "  }\n",
              "\n",
              "  .colab-df-quickchart {\n",
              "    background-color: var(--bg-color);\n",
              "    border: none;\n",
              "    border-radius: 50%;\n",
              "    cursor: pointer;\n",
              "    display: none;\n",
              "    fill: var(--fill-color);\n",
              "    height: 32px;\n",
              "    padding: 0;\n",
              "    width: 32px;\n",
              "  }\n",
              "\n",
              "  .colab-df-quickchart:hover {\n",
              "    background-color: var(--hover-bg-color);\n",
              "    box-shadow: 0 1px 2px rgba(60, 64, 67, 0.3), 0 1px 3px 1px rgba(60, 64, 67, 0.15);\n",
              "    fill: var(--button-hover-fill-color);\n",
              "  }\n",
              "\n",
              "  .colab-df-quickchart-complete:disabled,\n",
              "  .colab-df-quickchart-complete:disabled:hover {\n",
              "    background-color: var(--disabled-bg-color);\n",
              "    fill: var(--disabled-fill-color);\n",
              "    box-shadow: none;\n",
              "  }\n",
              "\n",
              "  .colab-df-spinner {\n",
              "    border: 2px solid var(--fill-color);\n",
              "    border-color: transparent;\n",
              "    border-bottom-color: var(--fill-color);\n",
              "    animation:\n",
              "      spin 1s steps(1) infinite;\n",
              "  }\n",
              "\n",
              "  @keyframes spin {\n",
              "    0% {\n",
              "      border-color: transparent;\n",
              "      border-bottom-color: var(--fill-color);\n",
              "      border-left-color: var(--fill-color);\n",
              "    }\n",
              "    20% {\n",
              "      border-color: transparent;\n",
              "      border-left-color: var(--fill-color);\n",
              "      border-top-color: var(--fill-color);\n",
              "    }\n",
              "    30% {\n",
              "      border-color: transparent;\n",
              "      border-left-color: var(--fill-color);\n",
              "      border-top-color: var(--fill-color);\n",
              "      border-right-color: var(--fill-color);\n",
              "    }\n",
              "    40% {\n",
              "      border-color: transparent;\n",
              "      border-right-color: var(--fill-color);\n",
              "      border-top-color: var(--fill-color);\n",
              "    }\n",
              "    60% {\n",
              "      border-color: transparent;\n",
              "      border-right-color: var(--fill-color);\n",
              "    }\n",
              "    80% {\n",
              "      border-color: transparent;\n",
              "      border-right-color: var(--fill-color);\n",
              "      border-bottom-color: var(--fill-color);\n",
              "    }\n",
              "    90% {\n",
              "      border-color: transparent;\n",
              "      border-bottom-color: var(--fill-color);\n",
              "    }\n",
              "  }\n",
              "</style>\n",
              "\n",
              "  <script>\n",
              "    async function quickchart(key) {\n",
              "      const quickchartButtonEl =\n",
              "        document.querySelector('#' + key + ' button');\n",
              "      quickchartButtonEl.disabled = true;  // To prevent multiple clicks.\n",
              "      quickchartButtonEl.classList.add('colab-df-spinner');\n",
              "      try {\n",
              "        const charts = await google.colab.kernel.invokeFunction(\n",
              "            'suggestCharts', [key], {});\n",
              "      } catch (error) {\n",
              "        console.error('Error during call to suggestCharts:', error);\n",
              "      }\n",
              "      quickchartButtonEl.classList.remove('colab-df-spinner');\n",
              "      quickchartButtonEl.classList.add('colab-df-quickchart-complete');\n",
              "    }\n",
              "    (() => {\n",
              "      let quickchartButtonEl =\n",
              "        document.querySelector('#df-d3ae7e60-7def-4b18-acae-93c29ae1412b button');\n",
              "      quickchartButtonEl.style.display =\n",
              "        google.colab.kernel.accessAllowed ? 'block' : 'none';\n",
              "    })();\n",
              "  </script>\n",
              "</div>\n",
              "\n",
              "    </div>\n",
              "  </div>\n"
            ],
            "application/vnd.google.colaboratory.intrinsic+json": {
              "type": "dataframe",
              "summary": "{\n  \"name\": \"display(data[['mouse\",\n  \"rows\": 22,\n  \"fields\": [\n    {\n      \"column\": \"mouse.clicked_name\",\n      \"properties\": {\n        \"dtype\": \"category\",\n        \"num_unique_values\": 3,\n        \"samples\": [\n          \"[\\\"lake2\\\",\\\"lake2\\\"]\",\n          \"[\\\"lake3\\\",\\\"lake3\\\"]\",\n          \"[\\\"lake1\\\",\\\"lake1\\\"]\"\n        ],\n        \"semantic_type\": \"\",\n        \"description\": \"\"\n      }\n    },\n    {\n      \"column\": \"mouse.time\",\n      \"properties\": {\n        \"dtype\": \"string\",\n        \"num_unique_values\": 20,\n        \"samples\": [\n          \"[1.4050000000000011]\",\n          \"[0.33099999999999596]\",\n          \"[0.3990000000000009]\"\n        ],\n        \"semantic_type\": \"\",\n        \"description\": \"\"\n      }\n    },\n    {\n      \"column\": \"outcome\",\n      \"properties\": {\n        \"dtype\": \"number\",\n        \"std\": 0.5104177855340405,\n        \"min\": 0.0,\n        \"max\": 1.0,\n        \"num_unique_values\": 2,\n        \"samples\": [\n          0.0,\n          1.0\n        ],\n        \"semantic_type\": \"\",\n        \"description\": \"\"\n      }\n    },\n    {\n      \"column\": \"nfish\",\n      \"properties\": {\n        \"dtype\": \"number\",\n        \"std\": 3.267060484675225,\n        \"min\": 1.0,\n        \"max\": 11.0,\n        \"num_unique_values\": 11,\n        \"samples\": [\n          6.0,\n          1.0\n        ],\n        \"semantic_type\": \"\",\n        \"description\": \"\"\n      }\n    }\n  ]\n}"
            }
          },
          "metadata": {}
        }
      ]
    },
    {
      "cell_type": "code",
      "source": [
        "# Clean up the data\n",
        "data = data.dropna(subset=['mouse.clicked_name','mouse.time','outcome'])\n",
        "print(data[['mouse.clicked_name','mouse.time','outcome']])"
      ],
      "metadata": {
        "id": "J-6wPk1sNQ42",
        "colab": {
          "base_uri": "https://localhost:8080/"
        },
        "outputId": "805f76d9-ee53-44bb-bc71-aac443e0d9ad"
      },
      "execution_count": 6,
      "outputs": [
        {
          "output_type": "stream",
          "name": "stdout",
          "text": [
            "   mouse.clicked_name             mouse.time  outcome\n",
            "1   [\"lake2\",\"lake2\"]   [1.4050000000000011]      1.0\n",
            "2   [\"lake3\",\"lake3\"]   [0.9800000000000004]      0.0\n",
            "3   [\"lake1\",\"lake1\"]   [0.8469999999999995]      0.0\n",
            "4   [\"lake2\",\"lake2\"]   [0.5820000000000007]      0.0\n",
            "5   [\"lake1\",\"lake1\"]   [1.0989999999999966]      1.0\n",
            "6   [\"lake3\",\"lake3\"]    [1.382000000000005]      1.0\n",
            "7   [\"lake2\",\"lake2\"]   [1.5990000000000038]      1.0\n",
            "8   [\"lake1\",\"lake1\"]   [0.8980000000000032]      0.0\n",
            "9   [\"lake2\",\"lake2\"]   [0.8470000000000013]      1.0\n",
            "10  [\"lake3\",\"lake3\"]   [0.6480000000000032]      1.0\n",
            "11  [\"lake1\",\"lake1\"]   [1.2150000000000034]      1.0\n",
            "12  [\"lake2\",\"lake2\"]   [0.6310000000000002]      0.0\n",
            "13  [\"lake3\",\"lake3\"]  [0.38399999999999324]      1.0\n",
            "14  [\"lake3\",\"lake3\"]   [0.4650000000000034]      0.0\n",
            "15  [\"lake2\",\"lake2\"]  [0.46400000000000574]      0.0\n",
            "16  [\"lake1\",\"lake1\"]   [0.3990000000000009]      0.0\n",
            "17  [\"lake2\",\"lake2\"]   [0.5309999999999988]      0.0\n",
            "18  [\"lake3\",\"lake3\"]  [0.33099999999999596]      1.0\n",
            "19  [\"lake3\",\"lake3\"]   [0.4130000000000038]      1.0\n",
            "20  [\"lake3\",\"lake3\"]    [0.347999999999999]      1.0\n"
          ]
        }
      ]
    },
    {
      "cell_type": "markdown",
      "source": [
        "## Your task is to come up with a code to calculate the sum of log likelihood of the data for a particular set of parameters in your model. Because we want to later find the parameter combinations that yields the highest log likelihood while Python only has functions to minimize a function, we need to invert the sign of log likelihood, i.e.,\n",
        "`-log p(data|parameter)`"
      ],
      "metadata": {
        "id": "i1BzRhz2OeYI"
      }
    },
    {
      "cell_type": "code",
      "source": [
        "\n",
        "\n",
        "def NegativeLogLikelihood(param, data):\n",
        "    Q0, beta, alpha = param\n",
        "    Q = np.ones(3) * Q0 # set the initial values for the 3 lakes\n",
        "\n",
        "    n_trial = len(data)\n",
        "    NLL = 0\n",
        "    for i in range(n_trial):\n",
        "        # put your code here to add the negative log likelihood\n",
        "        # for each trial\n",
        "        action = int(data.iloc[i]['mouse.clicked_name'][6]) - 1\n",
        "        outcome = data.iloc[i]['outcome']\n",
        "        prob_choice = np.exp(beta * Q[action]) / np.sum(np.exp(beta * Q))\n",
        "        NLL = NLL - np.log(prob_choice)\n",
        "        Q[action] = Q[action] + alpha * (outcome - Q[action])\n",
        "    return NLL\n",
        "\n"
      ],
      "metadata": {
        "id": "iXrfHMXZN9j9"
      },
      "execution_count": 7,
      "outputs": []
    },
    {
      "cell_type": "code",
      "source": [],
      "metadata": {
        "id": "K9xz9h2yhhCE"
      },
      "execution_count": 7,
      "outputs": []
    },
    {
      "cell_type": "markdown",
      "source": [
        "# Now, fix all of your parameters to some values except for one, plot how the negative log likelihood depends on the value of that parameter.\n",
        "\n"
      ],
      "metadata": {
        "id": "YiXO6FRfPqdN"
      }
    },
    {
      "cell_type": "code",
      "source": [
        "Q0 = 0.5\n",
        "beta = 1\n",
        "alpha = np.arange(0, 1, 0.01)\n",
        "NLL = np.zeros(len(alpha))\n",
        "for i in range(len(alpha)):\n",
        "    NLL[i] = NegativeLogLikelihood([Q0, beta, alpha[i]], data)\n",
        "\n",
        "plt.plot(alpha, NLL)\n",
        "plt.xlabel('alpha')\n",
        "plt.ylabel('NLL')\n",
        "plt.show()\n",
        "\n",
        "\n",
        "Q0 = 0.5\n",
        "beta = np.arange(0, 10, 0.1)\n",
        "alpha = 0.6\n",
        "NLL = np.zeros(len(beta))\n",
        "for i in range(len(beta)):\n",
        "    NLL[i] = NegativeLogLikelihood([Q0, beta[i], alpha], data)\n",
        "\n",
        "plt.plot(beta, NLL)\n",
        "plt.xlabel('beta')\n",
        "plt.ylabel('NLL')\n",
        "plt.show()\n",
        "\n",
        "\n",
        "Q0 = np.arange(0, 2.0, 0.01)\n",
        "beta = 10.0\n",
        "alpha = 0.3\n",
        "NLL = np.zeros(len(Q0))\n",
        "for i in range(len(Q0)):\n",
        "    NLL[i] = NegativeLogLikelihood([Q0[i], beta, alpha], data)\n",
        "\n",
        "plt.plot(Q0, NLL)\n",
        "plt.xlabel('Q0')\n",
        "plt.ylabel('NLL')\n",
        "plt.show()"
      ],
      "metadata": {
        "id": "Mp8pP_9oOda_",
        "colab": {
          "base_uri": "https://localhost:8080/",
          "height": 1000
        },
        "outputId": "f90006eb-11ee-4796-c9f0-7bf15207b4f2"
      },
      "execution_count": 9,
      "outputs": [
        {
          "output_type": "display_data",
          "data": {
            "text/plain": [
              "<Figure size 640x480 with 1 Axes>"
            ],
            "image/png": "[encoded data removed]"
          },
          "metadata": {}
        },
        {
          "output_type": "display_data",
          "data": {
            "text/plain": [
              "<Figure size 640x480 with 1 Axes>"
            ],
            "image/png": "[encoded data removed]"
          },
          "metadata": {}
        },
        {
          "output_type": "display_data",
          "data": {
            "text/plain": [
              "<Figure size 640x480 with 1 Axes>"
            ],
            "image/png": "[encoded data removed]"
          },
          "metadata": {}
        }
      ]
    },
    {
      "cell_type": "code",
      "source": [
        "Q0 = 2\n",
        "beta, alpha = np.meshgrid(np.arange(0, 10, 0.1), np.arange(0, 1, 0.01))\n",
        "print(beta)\n",
        "print(alpha)\n",
        "NLL = np.zeros(beta.shape)\n",
        "for i in range(beta.shape[0]):\n",
        "    for j in range(beta.shape[1]):\n",
        "        NLL[i, j] = NegativeLogLikelihood([Q0, beta[i, j], alpha[i, j]], data)\n",
        "plt.contour(beta, alpha, NLL, 30)\n",
        "plt.colorbar()\n",
        "plt.xlabel('beta')\n",
        "plt.ylabel('alpha')\n",
        "plt.show()"
      ],
      "metadata": {
        "colab": {
          "base_uri": "https://localhost:8080/",
          "height": 714
        },
        "id": "n_wJTgbBvHOI",
        "outputId": "d40342bc-69c6-4173-84ad-de82896deb1b"
      },
      "execution_count": 44,
      "outputs": [
        {
          "output_type": "stream",
          "name": "stdout",
          "text": [
            "[[0.  0.1 0.2 ... 9.7 9.8 9.9]\n",
            " [0.  0.1 0.2 ... 9.7 9.8 9.9]\n",
            " [0.  0.1 0.2 ... 9.7 9.8 9.9]\n",
            " ...\n",
            " [0.  0.1 0.2 ... 9.7 9.8 9.9]\n",
            " [0.  0.1 0.2 ... 9.7 9.8 9.9]\n",
            " [0.  0.1 0.2 ... 9.7 9.8 9.9]]\n",
            "[[0.   0.   0.   ... 0.   0.   0.  ]\n",
            " [0.01 0.01 0.01 ... 0.01 0.01 0.01]\n",
            " [0.02 0.02 0.02 ... 0.02 0.02 0.02]\n",
            " ...\n",
            " [0.97 0.97 0.97 ... 0.97 0.97 0.97]\n",
            " [0.98 0.98 0.98 ... 0.98 0.98 0.98]\n",
            " [0.99 0.99 0.99 ... 0.99 0.99 0.99]]\n"
          ]
        },
        {
          "output_type": "display_data",
          "data": {
            "text/plain": [
              "<Figure size 640x480 with 2 Axes>"
            ],
            "image/png": "[encoded data removed]"
          },
          "metadata": {}
        }
      ]
    },
    {
      "cell_type": "markdown",
      "source": [
        "## Now, let's use `scipy.optimize.minimizer` to look for the best parameter.\n"
      ],
      "metadata": {
        "id": "rYiYZCtCP8vB"
      }
    },
    {
      "cell_type": "code",
      "source": [
        "help(minimize)"
      ],
      "metadata": {
        "colab": {
          "base_uri": "https://localhost:8080/"
        },
        "id": "4xFftSIYQDXB",
        "outputId": "62dec330-87b8-4e6c-f87f-7940c02aacd4",
        "collapsed": true
      },
      "execution_count": 45,
      "outputs": [
        {
          "output_type": "stream",
          "name": "stdout",
          "text": [
            "Help on function minimize in module scipy.optimize._minimize:\n",
            "\n",
            "minimize(fun, x0, args=(), method=None, jac=None, hess=None, hessp=None, bounds=None, constraints=(), tol=None, callback=None, options=None)\n",
            "    Minimization of scalar function of one or more variables.\n",
            "    \n",
            "    Parameters\n",
            "    ----------\n",
            "    fun : callable\n",
            "        The objective function to be minimized.\n",
            "    \n",
            "            ``fun(x, *args) -> float``\n",
            "    \n",
            "        where ``x`` is a 1-D array with shape (n,) and ``args``\n",
            "        is a tuple of the fixed parameters needed to completely\n",
            "        specify the function.\n",
            "    x0 : ndarray, shape (n,)\n",
            "        Initial guess. Array of real elements of size (n,),\n",
            "        where ``n`` is the number of independent variables.\n",
            "    args : tuple, optional\n",
            "        Extra arguments passed to the objective function and its\n",
            "        derivatives (`fun`, `jac` and `hess` functions).\n",
            "    method : str or callable, optional\n",
            "        Type of solver.  Should be one of\n",
            "    \n",
            "            - 'Nelder-Mead' :ref:`(see here) <optimize.minimize-neldermead>`\n",
            "            - 'Powell'      :ref:`(see here) <optimize.minimize-powell>`\n",
            "            - 'CG'          :ref:`(see here) <optimize.minimize-cg>`\n",
            "            - 'BFGS'        :ref:`(see here) <optimize.minimize-bfgs>`\n",
            "            - 'Newton-CG'   :ref:`(see here) <optimize.minimize-newtoncg>`\n",
            "            - 'L-BFGS-B'    :ref:`(see here) <optimize.minimize-lbfgsb>`\n",
            "            - 'TNC'         :ref:`(see here) <optimize.minimize-tnc>`\n",
            "            - 'COBYLA'      :ref:`(see here) <optimize.minimize-cobyla>`\n",
            "            - 'SLSQP'       :ref:`(see here) <optimize.minimize-slsqp>`\n",
            "            - 'trust-constr':ref:`(see here) <optimize.minimize-trustconstr>`\n",
            "            - 'dogleg'      :ref:`(see here) <optimize.minimize-dogleg>`\n",
            "            - 'trust-ncg'   :ref:`(see here) <optimize.minimize-trustncg>`\n",
            "            - 'trust-exact' :ref:`(see here) <optimize.minimize-trustexact>`\n",
            "            - 'trust-krylov' :ref:`(see here) <optimize.minimize-trustkrylov>`\n",
            "            - custom - a callable object, see below for description.\n",
            "    \n",
            "        If not given, chosen to be one of ``BFGS``, ``L-BFGS-B``, ``SLSQP``,\n",
            "        depending on whether or not the problem has constraints or bounds.\n",
            "    jac : {callable,  '2-point', '3-point', 'cs', bool}, optional\n",
            "        Method for computing the gradient vector. Only for CG, BFGS,\n",
            "        Newton-CG, L-BFGS-B, TNC, SLSQP, dogleg, trust-ncg, trust-krylov,\n",
            "        trust-exact and trust-constr.\n",
            "        If it is a callable, it should be a function that returns the gradient\n",
            "        vector:\n",
            "    \n",
            "            ``jac(x, *args) -> array_like, shape (n,)``\n",
            "    \n",
            "        where ``x`` is an array with shape (n,) and ``args`` is a tuple with\n",
            "        the fixed parameters. If `jac` is a Boolean and is True, `fun` is\n",
            "        assumed to return a tuple ``(f, g)`` containing the objective\n",
            "        function and the gradient.\n",
            "        Methods 'Newton-CG', 'trust-ncg', 'dogleg', 'trust-exact', and\n",
            "        'trust-krylov' require that either a callable be supplied, or that\n",
            "        `fun` return the objective and gradient.\n",
            "        If None or False, the gradient will be estimated using 2-point finite\n",
            "        difference estimation with an absolute step size.\n",
            "        Alternatively, the keywords  {'2-point', '3-point', 'cs'} can be used\n",
            "        to select a finite difference scheme for numerical estimation of the\n",
            "        gradient with a relative step size. These finite difference schemes\n",
            "        obey any specified `bounds`.\n",
            "    hess : {callable, '2-point', '3-point', 'cs', HessianUpdateStrategy}, optional\n",
            "        Method for computing the Hessian matrix. Only for Newton-CG, dogleg,\n",
            "        trust-ncg, trust-krylov, trust-exact and trust-constr.\n",
            "        If it is callable, it should return the Hessian matrix:\n",
            "    \n",
            "            ``hess(x, *args) -> {LinearOperator, spmatrix, array}, (n, n)``\n",
            "    \n",
            "        where ``x`` is a (n,) ndarray and ``args`` is a tuple with the fixed\n",
            "        parameters.\n",
            "        The keywords {'2-point', '3-point', 'cs'} can also be used to select\n",
            "        a finite difference scheme for numerical estimation of the hessian.\n",
            "        Alternatively, objects implementing the `HessianUpdateStrategy`\n",
            "        interface can be used to approximate the Hessian. Available\n",
            "        quasi-Newton methods implementing this interface are:\n",
            "    \n",
            "            - `BFGS`;\n",
            "            - `SR1`.\n",
            "    \n",
            "        Not all of the options are available for each of the methods; for\n",
            "        availability refer to the notes.\n",
            "    hessp : callable, optional\n",
            "        Hessian of objective function times an arbitrary vector p. Only for\n",
            "        Newton-CG, trust-ncg, trust-krylov, trust-constr.\n",
            "        Only one of `hessp` or `hess` needs to be given. If `hess` is\n",
            "        provided, then `hessp` will be ignored. `hessp` must compute the\n",
            "        Hessian times an arbitrary vector:\n",
            "    \n",
            "            ``hessp(x, p, *args) ->  ndarray shape (n,)``\n",
            "    \n",
            "        where ``x`` is a (n,) ndarray, ``p`` is an arbitrary vector with\n",
            "        dimension (n,) and ``args`` is a tuple with the fixed\n",
            "        parameters.\n",
            "    bounds : sequence or `Bounds`, optional\n",
            "        Bounds on variables for Nelder-Mead, L-BFGS-B, TNC, SLSQP, Powell,\n",
            "        trust-constr, and COBYLA methods. There are two ways to specify the\n",
            "        bounds:\n",
            "    \n",
            "            1. Instance of `Bounds` class.\n",
            "            2. Sequence of ``(min, max)`` pairs for each element in `x`. None\n",
            "               is used to specify no bound.\n",
            "    \n",
            "    constraints : {Constraint, dict} or List of {Constraint, dict}, optional\n",
            "        Constraints definition. Only for COBYLA, SLSQP and trust-constr.\n",
            "    \n",
            "        Constraints for 'trust-constr' are defined as a single object or a\n",
            "        list of objects specifying constraints to the optimization problem.\n",
            "        Available constraints are:\n",
            "    \n",
            "            - `LinearConstraint`\n",
            "            - `NonlinearConstraint`\n",
            "    \n",
            "        Constraints for COBYLA, SLSQP are defined as a list of dictionaries.\n",
            "        Each dictionary with fields:\n",
            "    \n",
            "            type : str\n",
            "                Constraint type: 'eq' for equality, 'ineq' for inequality.\n",
            "            fun : callable\n",
            "                The function defining the constraint.\n",
            "            jac : callable, optional\n",
            "                The Jacobian of `fun` (only for SLSQP).\n",
            "            args : sequence, optional\n",
            "                Extra arguments to be passed to the function and Jacobian.\n",
            "    \n",
            "        Equality constraint means that the constraint function result is to\n",
            "        be zero whereas inequality means that it is to be non-negative.\n",
            "        Note that COBYLA only supports inequality constraints.\n",
            "    tol : float, optional\n",
            "        Tolerance for termination. When `tol` is specified, the selected\n",
            "        minimization algorithm sets some relevant solver-specific tolerance(s)\n",
            "        equal to `tol`. For detailed control, use solver-specific\n",
            "        options.\n",
            "    options : dict, optional\n",
            "        A dictionary of solver options. All methods except `TNC` accept the\n",
            "        following generic options:\n",
            "    \n",
            "            maxiter : int\n",
            "                Maximum number of iterations to perform. Depending on the\n",
            "                method each iteration may use several function evaluations.\n",
            "    \n",
            "                For `TNC` use `maxfun` instead of `maxiter`.\n",
            "            disp : bool\n",
            "                Set to True to print convergence messages.\n",
            "    \n",
            "        For method-specific options, see :func:`show_options()`.\n",
            "    callback : callable, optional\n",
            "        A callable called after each iteration.\n",
            "    \n",
            "        All methods except TNC, SLSQP, and COBYLA support a callable with\n",
            "        the signature:\n",
            "    \n",
            "            ``callback(intermediate_result: OptimizeResult)``\n",
            "    \n",
            "        where ``intermediate_result`` is a keyword parameter containing an\n",
            "        `OptimizeResult` with attributes ``x`` and ``fun``, the present values\n",
            "        of the parameter vector and objective function. Note that the name\n",
            "        of the parameter must be ``intermediate_result`` for the callback\n",
            "        to be passed an `OptimizeResult`. These methods will also terminate if\n",
            "        the callback raises ``StopIteration``.\n",
            "    \n",
            "        All methods except trust-constr (also) support a signature like:\n",
            "    \n",
            "            ``callback(xk)``\n",
            "    \n",
            "        where ``xk`` is the current parameter vector.\n",
            "    \n",
            "        Introspection is used to determine which of the signatures above to\n",
            "        invoke.\n",
            "    \n",
            "    Returns\n",
            "    -------\n",
            "    res : OptimizeResult\n",
            "        The optimization result represented as a ``OptimizeResult`` object.\n",
            "        Important attributes are: ``x`` the solution array, ``success`` a\n",
            "        Boolean flag indicating if the optimizer exited successfully and\n",
            "        ``message`` which describes the cause of the termination. See\n",
            "        `OptimizeResult` for a description of other attributes.\n",
            "    \n",
            "    See also\n",
            "    --------\n",
            "    minimize_scalar : Interface to minimization algorithms for scalar\n",
            "        univariate functions\n",
            "    show_options : Additional options accepted by the solvers\n",
            "    \n",
            "    Notes\n",
            "    -----\n",
            "    This section describes the available solvers that can be selected by the\n",
            "    'method' parameter. The default method is *BFGS*.\n",
            "    \n",
            "    **Unconstrained minimization**\n",
            "    \n",
            "    Method :ref:`CG <optimize.minimize-cg>` uses a nonlinear conjugate\n",
            "    gradient algorithm by Polak and Ribiere, a variant of the\n",
            "    Fletcher-Reeves method described in [5]_ pp.120-122. Only the\n",
            "    first derivatives are used.\n",
            "    \n",
            "    Method :ref:`BFGS <optimize.minimize-bfgs>` uses the quasi-Newton\n",
            "    method of Broyden, Fletcher, Goldfarb, and Shanno (BFGS) [5]_\n",
            "    pp. 136. It uses the first derivatives only. BFGS has proven good\n",
            "    performance even for non-smooth optimizations. This method also\n",
            "    returns an approximation of the Hessian inverse, stored as\n",
            "    `hess_inv` in the OptimizeResult object.\n",
            "    \n",
            "    Method :ref:`Newton-CG <optimize.minimize-newtoncg>` uses a\n",
            "    Newton-CG algorithm [5]_ pp. 168 (also known as the truncated\n",
            "    Newton method). It uses a CG method to the compute the search\n",
            "    direction. See also *TNC* method for a box-constrained\n",
            "    minimization with a similar algorithm. Suitable for large-scale\n",
            "    problems.\n",
            "    \n",
            "    Method :ref:`dogleg <optimize.minimize-dogleg>` uses the dog-leg\n",
            "    trust-region algorithm [5]_ for unconstrained minimization. This\n",
            "    algorithm requires the gradient and Hessian; furthermore the\n",
            "    Hessian is required to be positive definite.\n",
            "    \n",
            "    Method :ref:`trust-ncg <optimize.minimize-trustncg>` uses the\n",
            "    Newton conjugate gradient trust-region algorithm [5]_ for\n",
            "    unconstrained minimization. This algorithm requires the gradient\n",
            "    and either the Hessian or a function that computes the product of\n",
            "    the Hessian with a given vector. Suitable for large-scale problems.\n",
            "    \n",
            "    Method :ref:`trust-krylov <optimize.minimize-trustkrylov>` uses\n",
            "    the Newton GLTR trust-region algorithm [14]_, [15]_ for unconstrained\n",
            "    minimization. This algorithm requires the gradient\n",
            "    and either the Hessian or a function that computes the product of\n",
            "    the Hessian with a given vector. Suitable for large-scale problems.\n",
            "    On indefinite problems it requires usually less iterations than the\n",
            "    `trust-ncg` method and is recommended for medium and large-scale problems.\n",
            "    \n",
            "    Method :ref:`trust-exact <optimize.minimize-trustexact>`\n",
            "    is a trust-region method for unconstrained minimization in which\n",
            "    quadratic subproblems are solved almost exactly [13]_. This\n",
            "    algorithm requires the gradient and the Hessian (which is\n",
            "    *not* required to be positive definite). It is, in many\n",
            "    situations, the Newton method to converge in fewer iterations\n",
            "    and the most recommended for small and medium-size problems.\n",
            "    \n",
            "    **Bound-Constrained minimization**\n",
            "    \n",
            "    Method :ref:`Nelder-Mead <optimize.minimize-neldermead>` uses the\n",
            "    Simplex algorithm [1]_, [2]_. This algorithm is robust in many\n",
            "    applications. However, if numerical computation of derivative can be\n",
            "    trusted, other algorithms using the first and/or second derivatives\n",
            "    information might be preferred for their better performance in\n",
            "    general.\n",
            "    \n",
            "    Method :ref:`L-BFGS-B <optimize.minimize-lbfgsb>` uses the L-BFGS-B\n",
            "    algorithm [6]_, [7]_ for bound constrained minimization.\n",
            "    \n",
            "    Method :ref:`Powell <optimize.minimize-powell>` is a modification\n",
            "    of Powell's method [3]_, [4]_ which is a conjugate direction\n",
            "    method. It performs sequential one-dimensional minimizations along\n",
            "    each vector of the directions set (`direc` field in `options` and\n",
            "    `info`), which is updated at each iteration of the main\n",
            "    minimization loop. The function need not be differentiable, and no\n",
            "    derivatives are taken. If bounds are not provided, then an\n",
            "    unbounded line search will be used. If bounds are provided and\n",
            "    the initial guess is within the bounds, then every function\n",
            "    evaluation throughout the minimization procedure will be within\n",
            "    the bounds. If bounds are provided, the initial guess is outside\n",
            "    the bounds, and `direc` is full rank (default has full rank), then\n",
            "    some function evaluations during the first iteration may be\n",
            "    outside the bounds, but every function evaluation after the first\n",
            "    iteration will be within the bounds. If `direc` is not full rank,\n",
            "    then some parameters may not be optimized and the solution is not\n",
            "    guaranteed to be within the bounds.\n",
            "    \n",
            "    Method :ref:`TNC <optimize.minimize-tnc>` uses a truncated Newton\n",
            "    algorithm [5]_, [8]_ to minimize a function with variables subject\n",
            "    to bounds. This algorithm uses gradient information; it is also\n",
            "    called Newton Conjugate-Gradient. It differs from the *Newton-CG*\n",
            "    method described above as it wraps a C implementation and allows\n",
            "    each variable to be given upper and lower bounds.\n",
            "    \n",
            "    **Constrained Minimization**\n",
            "    \n",
            "    Method :ref:`COBYLA <optimize.minimize-cobyla>` uses the\n",
            "    Constrained Optimization BY Linear Approximation (COBYLA) method\n",
            "    [9]_, [10]_, [11]_. The algorithm is based on linear\n",
            "    approximations to the objective function and each constraint. The\n",
            "    method wraps a FORTRAN implementation of the algorithm. The\n",
            "    constraints functions 'fun' may return either a single number\n",
            "    or an array or list of numbers.\n",
            "    \n",
            "    Method :ref:`SLSQP <optimize.minimize-slsqp>` uses Sequential\n",
            "    Least SQuares Programming to minimize a function of several\n",
            "    variables with any combination of bounds, equality and inequality\n",
            "    constraints. The method wraps the SLSQP Optimization subroutine\n",
            "    originally implemented by Dieter Kraft [12]_. Note that the\n",
            "    wrapper handles infinite values in bounds by converting them into\n",
            "    large floating values.\n",
            "    \n",
            "    Method :ref:`trust-constr <optimize.minimize-trustconstr>` is a\n",
            "    trust-region algorithm for constrained optimization. It switches\n",
            "    between two implementations depending on the problem definition.\n",
            "    It is the most versatile constrained minimization algorithm\n",
            "    implemented in SciPy and the most appropriate for large-scale problems.\n",
            "    For equality constrained problems it is an implementation of Byrd-Omojokun\n",
            "    Trust-Region SQP method described in [17]_ and in [5]_, p. 549. When\n",
            "    inequality constraints are imposed as well, it switches to the trust-region\n",
            "    interior point method described in [16]_. This interior point algorithm,\n",
            "    in turn, solves inequality constraints by introducing slack variables\n",
            "    and solving a sequence of equality-constrained barrier problems\n",
            "    for progressively smaller values of the barrier parameter.\n",
            "    The previously described equality constrained SQP method is\n",
            "    used to solve the subproblems with increasing levels of accuracy\n",
            "    as the iterate gets closer to a solution.\n",
            "    \n",
            "    **Finite-Difference Options**\n",
            "    \n",
            "    For Method :ref:`trust-constr <optimize.minimize-trustconstr>`\n",
            "    the gradient and the Hessian may be approximated using\n",
            "    three finite-difference schemes: {'2-point', '3-point', 'cs'}.\n",
            "    The scheme 'cs' is, potentially, the most accurate but it\n",
            "    requires the function to correctly handle complex inputs and to\n",
            "    be differentiable in the complex plane. The scheme '3-point' is more\n",
            "    accurate than '2-point' but requires twice as many operations. If the\n",
            "    gradient is estimated via finite-differences the Hessian must be\n",
            "    estimated using one of the quasi-Newton strategies.\n",
            "    \n",
            "    **Method specific options for the** `hess` **keyword**\n",
            "    \n",
            "    +--------------+------+----------+-------------------------+-----+\n",
            "    | method/Hess  | None | callable | '2-point/'3-point'/'cs' | HUS |\n",
            "    +==============+======+==========+=========================+=====+\n",
            "    | Newton-CG    | x    | (n, n)   | x                       | x   |\n",
            "    |              |      | LO       |                         |     |\n",
            "    +--------------+------+----------+-------------------------+-----+\n",
            "    | dogleg       |      | (n, n)   |                         |     |\n",
            "    +--------------+------+----------+-------------------------+-----+\n",
            "    | trust-ncg    |      | (n, n)   | x                       | x   |\n",
            "    +--------------+------+----------+-------------------------+-----+\n",
            "    | trust-krylov |      | (n, n)   | x                       | x   |\n",
            "    +--------------+------+----------+-------------------------+-----+\n",
            "    | trust-exact  |      | (n, n)   |                         |     |\n",
            "    +--------------+------+----------+-------------------------+-----+\n",
            "    | trust-constr | x    | (n, n)   |  x                      | x   |\n",
            "    |              |      | LO       |                         |     |\n",
            "    |              |      | sp       |                         |     |\n",
            "    +--------------+------+----------+-------------------------+-----+\n",
            "    \n",
            "    where LO=LinearOperator, sp=Sparse matrix, HUS=HessianUpdateStrategy\n",
            "    \n",
            "    **Custom minimizers**\n",
            "    \n",
            "    It may be useful to pass a custom minimization method, for example\n",
            "    when using a frontend to this method such as `scipy.optimize.basinhopping`\n",
            "    or a different library.  You can simply pass a callable as the ``method``\n",
            "    parameter.\n",
            "    \n",
            "    The callable is called as ``method(fun, x0, args, **kwargs, **options)``\n",
            "    where ``kwargs`` corresponds to any other parameters passed to `minimize`\n",
            "    (such as `callback`, `hess`, etc.), except the `options` dict, which has\n",
            "    its contents also passed as `method` parameters pair by pair.  Also, if\n",
            "    `jac` has been passed as a bool type, `jac` and `fun` are mangled so that\n",
            "    `fun` returns just the function values and `jac` is converted to a function\n",
            "    returning the Jacobian.  The method shall return an `OptimizeResult`\n",
            "    object.\n",
            "    \n",
            "    The provided `method` callable must be able to accept (and possibly ignore)\n",
            "    arbitrary parameters; the set of parameters accepted by `minimize` may\n",
            "    expand in future versions and then these parameters will be passed to\n",
            "    the method.  You can find an example in the scipy.optimize tutorial.\n",
            "    \n",
            "    References\n",
            "    ----------\n",
            "    .. [1] Nelder, J A, and R Mead. 1965. A Simplex Method for Function\n",
            "        Minimization. The Computer Journal 7: 308-13.\n",
            "    .. [2] Wright M H. 1996. Direct search methods: Once scorned, now\n",
            "        respectable, in Numerical Analysis 1995: Proceedings of the 1995\n",
            "        Dundee Biennial Conference in Numerical Analysis (Eds. D F\n",
            "        Griffiths and G A Watson). Addison Wesley Longman, Harlow, UK.\n",
            "        191-208.\n",
            "    .. [3] Powell, M J D. 1964. An efficient method for finding the minimum of\n",
            "       a function of several variables without calculating derivatives. The\n",
            "       Computer Journal 7: 155-162.\n",
            "    .. [4] Press W, S A Teukolsky, W T Vetterling and B P Flannery.\n",
            "       Numerical Recipes (any edition), Cambridge University Press.\n",
            "    .. [5] Nocedal, J, and S J Wright. 2006. Numerical Optimization.\n",
            "       Springer New York.\n",
            "    .. [6] Byrd, R H and P Lu and J. Nocedal. 1995. A Limited Memory\n",
            "       Algorithm for Bound Constrained Optimization. SIAM Journal on\n",
            "       Scientific and Statistical Computing 16 (5): 1190-1208.\n",
            "    .. [7] Zhu, C and R H Byrd and J Nocedal. 1997. L-BFGS-B: Algorithm\n",
            "       778: L-BFGS-B, FORTRAN routines for large scale bound constrained\n",
            "       optimization. ACM Transactions on Mathematical Software 23 (4):\n",
            "       550-560.\n",
            "    .. [8] Nash, S G. Newton-Type Minimization Via the Lanczos Method.\n",
            "       1984. SIAM Journal of Numerical Analysis 21: 770-778.\n",
            "    .. [9] Powell, M J D. A direct search optimization method that models\n",
            "       the objective and constraint functions by linear interpolation.\n",
            "       1994. Advances in Optimization and Numerical Analysis, eds. S. Gomez\n",
            "       and J-P Hennart, Kluwer Academic (Dordrecht), 51-67.\n",
            "    .. [10] Powell M J D. Direct search algorithms for optimization\n",
            "       calculations. 1998. Acta Numerica 7: 287-336.\n",
            "    .. [11] Powell M J D. A view of algorithms for optimization without\n",
            "       derivatives. 2007.Cambridge University Technical Report DAMTP\n",
            "       2007/NA03\n",
            "    .. [12] Kraft, D. A software package for sequential quadratic\n",
            "       programming. 1988. Tech. Rep. DFVLR-FB 88-28, DLR German Aerospace\n",
            "       Center -- Institute for Flight Mechanics, Koln, Germany.\n",
            "    .. [13] Conn, A. R., Gould, N. I., and Toint, P. L.\n",
            "       Trust region methods. 2000. Siam. pp. 169-200.\n",
            "    .. [14] F. Lenders, C. Kirches, A. Potschka: \"trlib: A vector-free\n",
            "       implementation of the GLTR method for iterative solution of\n",
            "       the trust region problem\", :arxiv:`1611.04718`\n",
            "    .. [15] N. Gould, S. Lucidi, M. Roma, P. Toint: \"Solving the\n",
            "       Trust-Region Subproblem using the Lanczos Method\",\n",
            "       SIAM J. Optim., 9(2), 504--525, (1999).\n",
            "    .. [16] Byrd, Richard H., Mary E. Hribar, and Jorge Nocedal. 1999.\n",
            "        An interior point algorithm for large-scale nonlinear  programming.\n",
            "        SIAM Journal on Optimization 9.4: 877-900.\n",
            "    .. [17] Lalee, Marucha, Jorge Nocedal, and Todd Plantega. 1998. On the\n",
            "        implementation of an algorithm for large-scale equality constrained\n",
            "        optimization. SIAM Journal on Optimization 8.3: 682-706.\n",
            "    \n",
            "    Examples\n",
            "    --------\n",
            "    Let us consider the problem of minimizing the Rosenbrock function. This\n",
            "    function (and its respective derivatives) is implemented in `rosen`\n",
            "    (resp. `rosen_der`, `rosen_hess`) in the `scipy.optimize`.\n",
            "    \n",
            "    >>> from scipy.optimize import minimize, rosen, rosen_der\n",
            "    \n",
            "    A simple application of the *Nelder-Mead* method is:\n",
            "    \n",
            "    >>> x0 = [1.3, 0.7, 0.8, 1.9, 1.2]\n",
            "    >>> res = minimize(rosen, x0, method='Nelder-Mead', tol=1e-6)\n",
            "    >>> res.x\n",
            "    array([ 1.,  1.,  1.,  1.,  1.])\n",
            "    \n",
            "    Now using the *BFGS* algorithm, using the first derivative and a few\n",
            "    options:\n",
            "    \n",
            "    >>> res = minimize(rosen, x0, method='BFGS', jac=rosen_der,\n",
            "    ...                options={'gtol': 1e-6, 'disp': True})\n",
            "    Optimization terminated successfully.\n",
            "             Current function value: 0.000000\n",
            "             Iterations: 26\n",
            "             Function evaluations: 31\n",
            "             Gradient evaluations: 31\n",
            "    >>> res.x\n",
            "    array([ 1.,  1.,  1.,  1.,  1.])\n",
            "    >>> print(res.message)\n",
            "    Optimization terminated successfully.\n",
            "    >>> res.hess_inv\n",
            "    array([\n",
            "        [ 0.00749589,  0.01255155,  0.02396251,  0.04750988,  0.09495377],  # may vary\n",
            "        [ 0.01255155,  0.02510441,  0.04794055,  0.09502834,  0.18996269],\n",
            "        [ 0.02396251,  0.04794055,  0.09631614,  0.19092151,  0.38165151],\n",
            "        [ 0.04750988,  0.09502834,  0.19092151,  0.38341252,  0.7664427 ],\n",
            "        [ 0.09495377,  0.18996269,  0.38165151,  0.7664427,   1.53713523]\n",
            "    ])\n",
            "    \n",
            "    \n",
            "    Next, consider a minimization problem with several constraints (namely\n",
            "    Example 16.4 from [5]_). The objective function is:\n",
            "    \n",
            "    >>> fun = lambda x: (x[0] - 1)**2 + (x[1] - 2.5)**2\n",
            "    \n",
            "    There are three constraints defined as:\n",
            "    \n",
            "    >>> cons = ({'type': 'ineq', 'fun': lambda x:  x[0] - 2 * x[1] + 2},\n",
            "    ...         {'type': 'ineq', 'fun': lambda x: -x[0] - 2 * x[1] + 6},\n",
            "    ...         {'type': 'ineq', 'fun': lambda x: -x[0] + 2 * x[1] + 2})\n",
            "    \n",
            "    And variables must be positive, hence the following bounds:\n",
            "    \n",
            "    >>> bnds = ((0, None), (0, None))\n",
            "    \n",
            "    The optimization problem is solved using the SLSQP method as:\n",
            "    \n",
            "    >>> res = minimize(fun, (2, 0), method='SLSQP', bounds=bnds,\n",
            "    ...                constraints=cons)\n",
            "    \n",
            "    It should converge to the theoretical solution (1.4 ,1.7).\n",
            "\n"
          ]
        }
      ]
    },
    {
      "cell_type": "code",
      "source": [
        "init_param = np.asarray([0.5, 2.0, 0.2])\n",
        "bnd = ((None, None), (0, 20.0), (0, 1.0))\n",
        "Q0, beta, alpha = init_param\n",
        "\n",
        "res = minimize(NegativeLogLikelihood, init_param, args=(data),\n",
        "               method='L-BFGS-B', bounds=bnd)\n",
        "print(res)"
      ],
      "metadata": {
        "id": "dXiUk8lYQK-4",
        "colab": {
          "base_uri": "https://localhost:8080/"
        },
        "outputId": "ade83160-133b-44ba-ff8e-7ab8f67f196e"
      },
      "execution_count": 46,
      "outputs": [
        {
          "output_type": "stream",
          "name": "stdout",
          "text": [
            "  message: CONVERGENCE: REL_REDUCTION_OF_F_<=_FACTR*EPSMCH\n",
            "  success: True\n",
            "   status: 0\n",
            "      fun: 16.61140410172455\n",
            "        x: [ 3.502e+00  3.601e+00  4.060e-01]\n",
            "      nit: 17\n",
            "      jac: [-5.684e-06  7.105e-07  6.857e-05]\n",
            "     nfev: 76\n",
            "     njev: 19\n",
            " hess_inv: <3x3 LbfgsInvHessProduct with dtype=float64>\n"
          ]
        }
      ]
    },
    {
      "cell_type": "markdown",
      "source": [
        "## What about a model that predicts subjects randomly picking each lake with equal chance?"
      ],
      "metadata": {
        "id": "bzTwE1d8uhru"
      }
    },
    {
      "cell_type": "code",
      "source": [
        "NLL_random = - np.log(1/3) * len(data)\n",
        "print('negative log likelihood for random model:', NLL_random)"
      ],
      "metadata": {
        "colab": {
          "base_uri": "https://localhost:8080/"
        },
        "id": "ynYQCet9ooJ8",
        "outputId": "23a0aec8-490e-4ce8-981b-4fe52602d8e8"
      },
      "execution_count": 47,
      "outputs": [
        {
          "output_type": "stream",
          "name": "stdout",
          "text": [
            "negative log likelihood for random model: 21.972245773362197\n"
          ]
        }
      ]
    },
    {
      "cell_type": "markdown",
      "source": [
        "## What about a slightly better random model that predicts participants choose each lake with a fixed probability but the probabilities are not equal across lakes?\n",
        ""
      ],
      "metadata": {
        "id": "UM_td_GdwbOi"
      }
    },
    {
      "cell_type": "code",
      "source": [
        "def NLL_random_diffprob(param, data):\n",
        "  # param contain two numbers indicating the relative difference\n",
        "  # of choice probability of the first two lakes against the last one\n",
        "  logits = np.concatenate([param, np.zeros(1)])\n",
        "  prob = np.exp(logits) / np.sum(np.exp(logits))\n",
        "  NLL = 0\n",
        "  for i in range(len(data)):\n",
        "    action = int(data.iloc[i]['mouse.clicked_name'][6]) - 1\n",
        "    outcome = data.iloc[i]['outcome']\n",
        "    NLL -= np.log(prob[action])\n",
        "  return NLL\n"
      ],
      "metadata": {
        "id": "CQ-PWOFYuwtx"
      },
      "execution_count": 19,
      "outputs": []
    },
    {
      "cell_type": "code",
      "source": [
        "init_param = np.asarray([0., 0.])\n",
        "\n",
        "\n",
        "res = minimize(NLL_random_diffprob, init_param, args=(data),\n",
        "               method='BFGS')\n",
        "print(res)"
      ],
      "metadata": {
        "colab": {
          "base_uri": "https://localhost:8080/"
        },
        "id": "NErWltcGxBnB",
        "outputId": "e6f8c782-b440-4677-a295-8c14b73f0037"
      },
      "execution_count": 20,
      "outputs": [
        {
          "output_type": "stream",
          "name": "stdout",
          "text": [
            "  message: Optimization terminated successfully.\n",
            "  success: True\n",
            "   status: 0\n",
            "      fun: 21.610552532083464\n",
            "        x: [-4.700e-01 -1.335e-01]\n",
            "      nit: 5\n",
            "      jac: [ 0.000e+00 -7.153e-07]\n",
            " hess_inv: [[ 3.218e-01  1.213e-01]\n",
            "            [ 1.213e-01  2.638e-01]]\n",
            "     nfev: 24\n",
            "     njev: 8\n"
          ]
        }
      ]
    },
    {
      "cell_type": "markdown",
      "source": [
        "## How can we compare models?\n",
        "\n",
        "## One approach is Bayesian model comparison\n",
        "\n",
        "For each model, we calculate\n",
        "\n",
        "$p(\\text{data} | \\text{model}) = \\int_\\theta p(\\text{data} | \\text{model}, \\theta) p(\\theta | \\text{model}) d\\theta $\n",
        "\n",
        "\n",
        "\n",
        "It is not always easy to decide what the prior probability of parameters should be. In fact, one drawback of this approach is that the result can depend on the choice of the prior probability distribution.\n",
        "\n",
        "One way is to empirically learn it across participants (this is a bit complex). Another way is to just choose a relative broad prior.\n",
        "\n",
        "### Let's choose a flat prior for each parameter\n",
        "\n",
        "$p(Q_0 | model) = U(-5, 5)$\n",
        "\n",
        "$p(\\beta | model) = U(0, 10)$\n",
        "\n",
        "$p(\\alpha | model) = U(0, 1)$\n",
        "\n",
        "We divide each parameter's range into 20 bins"
      ],
      "metadata": {
        "id": "Bbj7fthNxUHx"
      }
    },
    {
      "cell_type": "code",
      "source": [
        "bnd_Q0 = [-5, 5]\n",
        "bin_width_Q0 = (bnd_Q0[1] - bnd_Q0[0]) / 20\n",
        "bins_Q0 = np.linspace(bnd_Q0[0] + bin_width_Q0 / 2,\n",
        "                      bnd_Q0[1] - + bin_width_Q0 / 2, 20)\n",
        "print(bins_Q0)\n",
        "\n",
        "bnd_beta = [0, 10]\n",
        "bin_width_beta = (bnd_beta[1] - bnd_beta[0]) / 20\n",
        "bins_beta = np.linspace(bnd_beta[0] + bin_width_beta / 2,\n",
        "                        bnd_beta[1] - + bin_width_beta / 2, 20)\n",
        "print(bins_beta)\n",
        "\n",
        "bnd_alpha = [0, 1]\n",
        "bin_width_alpha = (bnd_alpha[1] - bnd_alpha[0]) / 20\n",
        "bins_alpha = np.linspace(bnd_alpha[0] + bin_width_alpha / 2,\n",
        "                         bnd_alpha[1] - + bin_width_alpha / 2, 20)\n",
        "print(bins_alpha)"
      ],
      "metadata": {
        "colab": {
          "base_uri": "https://localhost:8080/"
        },
        "id": "xl9GbN7cxMXs",
        "outputId": "944ac473-a6d0-403d-f598-9bb69d6e4f83"
      },
      "execution_count": 22,
      "outputs": [
        {
          "output_type": "stream",
          "name": "stdout",
          "text": [
            "[-4.75 -4.25 -3.75 -3.25 -2.75 -2.25 -1.75 -1.25 -0.75 -0.25  0.25  0.75\n",
            "  1.25  1.75  2.25  2.75  3.25  3.75  4.25  4.75]\n",
            "[0.25 0.75 1.25 1.75 2.25 2.75 3.25 3.75 4.25 4.75 5.25 5.75 6.25 6.75\n",
            " 7.25 7.75 8.25 8.75 9.25 9.75]\n",
            "[0.025 0.075 0.125 0.175 0.225 0.275 0.325 0.375 0.425 0.475 0.525 0.575\n",
            " 0.625 0.675 0.725 0.775 0.825 0.875 0.925 0.975]\n"
          ]
        }
      ]
    },
    {
      "cell_type": "code",
      "source": [
        "Q0, beta, alpha = np.meshgrid(bins_Q0, bins_beta, bins_alpha)\n",
        "LL_all = np.zeros(Q0.shape)\n",
        "for i in range(Q0.shape[0]):\n",
        "    for j in range(Q0.shape[1]):\n",
        "        for k in range(Q0.shape[2]):\n",
        "            param = [Q0[i, j, k], beta[i, j, k], alpha[i, j, k]]\n",
        "            LL_all[i, j, k] = - NegativeLogLikelihood(param, data)\n",
        "model_LL = np.log(np.sum(np.exp(LL_all) * (1/20) ** 3))\n",
        "print('model log likelihood:', model_LL)"
      ],
      "metadata": {
        "colab": {
          "base_uri": "https://localhost:8080/"
        },
        "id": "n9rgK8DtzV2_",
        "outputId": "b6a14e56-0020-4ef7-9381-224953538629"
      },
      "execution_count": 23,
      "outputs": [
        {
          "output_type": "stream",
          "name": "stdout",
          "text": [
            "model log likelihood: -19.537995803190665\n"
          ]
        }
      ]
    },
    {
      "cell_type": "markdown",
      "source": [
        "## What about the random model?\n",
        "If we assume all choices are picked randomly with probability of 1/3, then there is no free parameters.\n",
        "\n"
      ],
      "metadata": {
        "id": "uXHeQEep0F8r"
      }
    },
    {
      "cell_type": "code",
      "source": [
        "LL_random = np.log(1/3) * 20\n",
        "print('log likelihood for random model:', LL_random)"
      ],
      "metadata": {
        "colab": {
          "base_uri": "https://localhost:8080/"
        },
        "id": "vXi0yjXBz_rM",
        "outputId": "35db2c38-5c9d-40bd-a167-63f23f608dec"
      },
      "execution_count": 24,
      "outputs": [
        {
          "output_type": "stream",
          "name": "stdout",
          "text": [
            "log likelihood for random model: -21.972245773362197\n"
          ]
        }
      ]
    },
    {
      "cell_type": "markdown",
      "source": [
        "## What about the random models with unknown probability for choosing among three lakes?\n",
        "\n",
        "The only restriction is that the three probabilities should sum to 1\n",
        "\n",
        "We can specify two probabilities $p_1$ and $p_2$ as free parameters, $p_3 = 1 - p_1 - p_2$.\n"
      ],
      "metadata": {
        "id": "fCFU9AQ70w1B"
      }
    },
    {
      "cell_type": "code",
      "source": [
        "N = 100  # Number of bins\n",
        "bins = []\n",
        "\n",
        "# Generate all integer partitions of N into three parts\n",
        "for i1 in range(N + 1):\n",
        "    for i2 in range(N + 1 - i1):\n",
        "        i3 = N - i1 - i2\n",
        "        bins.append((i1 / N, i2 / N, i3 / N))\n",
        "\n",
        "bins = np.array(bins)\n",
        "print(bins)\n",
        "print(np.shape(bins))"
      ],
      "metadata": {
        "colab": {
          "base_uri": "https://localhost:8080/"
        },
        "id": "0mN-_d7F0wLY",
        "outputId": "67020520-491a-41df-e0dd-ad6a316f3263"
      },
      "execution_count": 41,
      "outputs": [
        {
          "output_type": "stream",
          "name": "stdout",
          "text": [
            "[[0.   0.   1.  ]\n",
            " [0.   0.01 0.99]\n",
            " [0.   0.02 0.98]\n",
            " ...\n",
            " [0.99 0.   0.01]\n",
            " [0.99 0.01 0.  ]\n",
            " [1.   0.   0.  ]]\n",
            "(5151, 3)\n"
          ]
        }
      ]
    },
    {
      "cell_type": "code",
      "source": [
        "def LL_random_diffprob_V2(prob, data):\n",
        "  # param contain two numbers indicating the relative difference\n",
        "  # of choice probability of the first two lakes against the last one\n",
        "\n",
        "  LL = 0\n",
        "  for i in range(len(data)):\n",
        "    action = int(data.iloc[i]['mouse.clicked_name'][6]) - 1\n",
        "    outcome = data.iloc[i]['outcome']\n",
        "    LL += np.log(prob[action])\n",
        "  return LL"
      ],
      "metadata": {
        "id": "pytvM_sX0YZG"
      },
      "execution_count": 28,
      "outputs": []
    },
    {
      "cell_type": "code",
      "source": [
        "LL_random_diffprob_V2([0,0,1], data)"
      ],
      "metadata": {
        "colab": {
          "base_uri": "https://localhost:8080/"
        },
        "id": "R-56c_v42lUo",
        "outputId": "963fd523-975b-42c8-f82c-67670ca8e398"
      },
      "execution_count": 31,
      "outputs": [
        {
          "output_type": "stream",
          "name": "stderr",
          "text": [
            "<ipython-input-28-cd08c1307c13>:9: RuntimeWarning: divide by zero encountered in log\n",
            "  LL += np.log(prob[action])\n"
          ]
        },
        {
          "output_type": "execute_result",
          "data": {
            "text/plain": [
              "-inf"
            ]
          },
          "metadata": {},
          "execution_count": 31
        }
      ]
    },
    {
      "cell_type": "code",
      "source": [
        "all_LL_random_diff_prob = np.zeros(np.shape(bins))\n",
        "for idx, prob in enumerate(bins):\n",
        "    all_LL_random_diff_prob[idx] = LL_random_diffprob_V2(prob, data)\n"
      ],
      "metadata": {
        "colab": {
          "base_uri": "https://localhost:8080/"
        },
        "id": "wZuZNt2G1l6L",
        "outputId": "7afd082e-020d-4a13-c30d-769f4ebd8d1b"
      },
      "execution_count": 42,
      "outputs": [
        {
          "output_type": "stream",
          "name": "stderr",
          "text": [
            "<ipython-input-28-cd08c1307c13>:9: RuntimeWarning: divide by zero encountered in log\n",
            "  LL += np.log(prob[action])\n"
          ]
        }
      ]
    },
    {
      "cell_type": "code",
      "source": [
        "max_LL = np.max(all_LL_random_diff_prob)\n",
        "print(max_LL)\n",
        "\n",
        "model_LL_random_diff_prob = max_LL + np.log(np.sum(np.exp(all_LL_random_diff_prob-max_LL))) + max_LL - np.log(np.shape(bins)[0])\n",
        "print('model log likelihood:', model_LL_random_diff_prob)"
      ],
      "metadata": {
        "colab": {
          "base_uri": "https://localhost:8080/"
        },
        "id": "zseywpdO2GqB",
        "outputId": "a747665b-a051-4db3-a1d3-c9d86f5c9ea7"
      },
      "execution_count": 43,
      "outputs": [
        {
          "output_type": "stream",
          "name": "stdout",
          "text": [
            "-21.61055253208344\n",
            "model log likelihood: -44.40247136800037\n"
          ]
        }
      ]
    },
    {
      "cell_type": "markdown",
      "source": [
        " The average model likelihood is much lower than the best log likelihood (-21.61), because many parameter combinations are far away from the behavior"
      ],
      "metadata": {
        "id": "E-Gh4vDfJhXt"
      }
    },
    {
      "cell_type": "code",
      "source": [],
      "metadata": {
        "id": "CWS5TGf13K7r"
      },
      "execution_count": null,
      "outputs": []
    }
  ]
}